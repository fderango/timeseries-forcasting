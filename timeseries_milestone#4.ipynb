{
 "cells": [
  {
   "cell_type": "code",
   "execution_count": 1,
   "id": "c0d49ece",
   "metadata": {},
   "outputs": [],
   "source": [
    "import pandas as pd\n",
    "import numpy as np\n",
    "import matplotlib.pyplot as plt\n",
    "import statsmodels.api as sm\n",
    "import statsmodels.formula.api as smf\n",
    "import seaborn as sns\n",
    "from statsmodels.graphics import tsaplots\n",
    "from statsmodels.graphics import tsaplots\n",
    "from statsmodels.tsa.arima_model import ARMA\n",
    "from statsmodels.tsa.arima_model import ARIMA\n",
    "from statsmodels.tsa.statespace.sarimax import SARIMAX\n",
    "from statsmodels.tsa.holtwinters import SimpleExpSmoothing, Holt, ExponentialSmoothing"
   ]
  },
  {
   "cell_type": "code",
   "execution_count": 2,
   "id": "c22da400",
   "metadata": {},
   "outputs": [
    {
     "data": {
      "text/html": [
       "<div>\n",
       "<style scoped>\n",
       "    .dataframe tbody tr th:only-of-type {\n",
       "        vertical-align: middle;\n",
       "    }\n",
       "\n",
       "    .dataframe tbody tr th {\n",
       "        vertical-align: top;\n",
       "    }\n",
       "\n",
       "    .dataframe thead th {\n",
       "        text-align: right;\n",
       "    }\n",
       "</style>\n",
       "<table border=\"1\" class=\"dataframe\">\n",
       "  <thead>\n",
       "    <tr style=\"text-align: right;\">\n",
       "      <th></th>\n",
       "      <th>STATION</th>\n",
       "      <th>DATE</th>\n",
       "      <th>REPORT_TYPE</th>\n",
       "      <th>SOURCE</th>\n",
       "      <th>HourlyDryBulbTemperature</th>\n",
       "    </tr>\n",
       "  </thead>\n",
       "  <tbody>\n",
       "    <tr>\n",
       "      <th>26275</th>\n",
       "      <td>72520514762</td>\n",
       "      <td>2020-01-31T19:53:00</td>\n",
       "      <td>FM-15</td>\n",
       "      <td>7</td>\n",
       "      <td>34.0</td>\n",
       "    </tr>\n",
       "    <tr>\n",
       "      <th>26276</th>\n",
       "      <td>72520514762</td>\n",
       "      <td>2020-01-31T20:53:00</td>\n",
       "      <td>FM-15</td>\n",
       "      <td>7</td>\n",
       "      <td>33.0</td>\n",
       "    </tr>\n",
       "    <tr>\n",
       "      <th>26277</th>\n",
       "      <td>72520514762</td>\n",
       "      <td>2020-01-31T21:53:00</td>\n",
       "      <td>FM-15</td>\n",
       "      <td>7</td>\n",
       "      <td>33.0</td>\n",
       "    </tr>\n",
       "    <tr>\n",
       "      <th>26278</th>\n",
       "      <td>72520514762</td>\n",
       "      <td>2020-01-31T22:53:00</td>\n",
       "      <td>FM-15</td>\n",
       "      <td>7</td>\n",
       "      <td>33.0</td>\n",
       "    </tr>\n",
       "    <tr>\n",
       "      <th>26279</th>\n",
       "      <td>72520514762</td>\n",
       "      <td>2020-01-31T23:53:00</td>\n",
       "      <td>FM-15</td>\n",
       "      <td>7</td>\n",
       "      <td>34.0</td>\n",
       "    </tr>\n",
       "  </tbody>\n",
       "</table>\n",
       "</div>"
      ],
      "text/plain": [
       "           STATION                 DATE REPORT_TYPE  SOURCE  \\\n",
       "26275  72520514762  2020-01-31T19:53:00       FM-15       7   \n",
       "26276  72520514762  2020-01-31T20:53:00       FM-15       7   \n",
       "26277  72520514762  2020-01-31T21:53:00       FM-15       7   \n",
       "26278  72520514762  2020-01-31T22:53:00       FM-15       7   \n",
       "26279  72520514762  2020-01-31T23:53:00       FM-15       7   \n",
       "\n",
       "       HourlyDryBulbTemperature  \n",
       "26275                      34.0  \n",
       "26276                      33.0  \n",
       "26277                      33.0  \n",
       "26278                      33.0  \n",
       "26279                      34.0  "
      ]
     },
     "execution_count": 2,
     "metadata": {},
     "output_type": "execute_result"
    }
   ],
   "source": [
    "# get the dataframes we are going to use \n",
    "\n",
    "# this is the temperature data\n",
    "weather = pd.read_csv('C:\\\\Users\\\\fderango\\\\Downloads\\\\Milestone 1 Dataset\\\\hr_temp.csv')\n",
    "#temp.head()\n",
    "weather.tail()"
   ]
  },
  {
   "cell_type": "code",
   "execution_count": 3,
   "id": "d57e5f7b",
   "metadata": {},
   "outputs": [
    {
     "data": {
      "text/html": [
       "<div>\n",
       "<style scoped>\n",
       "    .dataframe tbody tr th:only-of-type {\n",
       "        vertical-align: middle;\n",
       "    }\n",
       "\n",
       "    .dataframe tbody tr th {\n",
       "        vertical-align: top;\n",
       "    }\n",
       "\n",
       "    .dataframe thead th {\n",
       "        text-align: right;\n",
       "    }\n",
       "</style>\n",
       "<table border=\"1\" class=\"dataframe\">\n",
       "  <thead>\n",
       "    <tr style=\"text-align: right;\">\n",
       "      <th></th>\n",
       "      <th>datetime_beginning_utc</th>\n",
       "      <th>datetime_beginning_ept</th>\n",
       "      <th>nerc_region</th>\n",
       "      <th>mkt_region</th>\n",
       "      <th>zone</th>\n",
       "      <th>load_area</th>\n",
       "      <th>mw</th>\n",
       "      <th>is_verified</th>\n",
       "    </tr>\n",
       "  </thead>\n",
       "  <tbody>\n",
       "    <tr>\n",
       "      <th>0</th>\n",
       "      <td>2/1/2017 5:00</td>\n",
       "      <td>2/1/2017 0:00</td>\n",
       "      <td>RFC</td>\n",
       "      <td>WEST</td>\n",
       "      <td>DUQ</td>\n",
       "      <td>DUQ</td>\n",
       "      <td>1419.881</td>\n",
       "      <td>True</td>\n",
       "    </tr>\n",
       "    <tr>\n",
       "      <th>1</th>\n",
       "      <td>2/1/2017 6:00</td>\n",
       "      <td>2/1/2017 1:00</td>\n",
       "      <td>RFC</td>\n",
       "      <td>WEST</td>\n",
       "      <td>DUQ</td>\n",
       "      <td>DUQ</td>\n",
       "      <td>1379.505</td>\n",
       "      <td>True</td>\n",
       "    </tr>\n",
       "    <tr>\n",
       "      <th>2</th>\n",
       "      <td>2/1/2017 7:00</td>\n",
       "      <td>2/1/2017 2:00</td>\n",
       "      <td>RFC</td>\n",
       "      <td>WEST</td>\n",
       "      <td>DUQ</td>\n",
       "      <td>DUQ</td>\n",
       "      <td>1366.106</td>\n",
       "      <td>True</td>\n",
       "    </tr>\n",
       "    <tr>\n",
       "      <th>3</th>\n",
       "      <td>2/1/2017 8:00</td>\n",
       "      <td>2/1/2017 3:00</td>\n",
       "      <td>RFC</td>\n",
       "      <td>WEST</td>\n",
       "      <td>DUQ</td>\n",
       "      <td>DUQ</td>\n",
       "      <td>1364.453</td>\n",
       "      <td>True</td>\n",
       "    </tr>\n",
       "    <tr>\n",
       "      <th>4</th>\n",
       "      <td>2/1/2017 9:00</td>\n",
       "      <td>2/1/2017 4:00</td>\n",
       "      <td>RFC</td>\n",
       "      <td>WEST</td>\n",
       "      <td>DUQ</td>\n",
       "      <td>DUQ</td>\n",
       "      <td>1391.265</td>\n",
       "      <td>True</td>\n",
       "    </tr>\n",
       "  </tbody>\n",
       "</table>\n",
       "</div>"
      ],
      "text/plain": [
       "  datetime_beginning_utc datetime_beginning_ept nerc_region mkt_region zone  \\\n",
       "0          2/1/2017 5:00          2/1/2017 0:00         RFC       WEST  DUQ   \n",
       "1          2/1/2017 6:00          2/1/2017 1:00         RFC       WEST  DUQ   \n",
       "2          2/1/2017 7:00          2/1/2017 2:00         RFC       WEST  DUQ   \n",
       "3          2/1/2017 8:00          2/1/2017 3:00         RFC       WEST  DUQ   \n",
       "4          2/1/2017 9:00          2/1/2017 4:00         RFC       WEST  DUQ   \n",
       "\n",
       "  load_area        mw  is_verified  \n",
       "0       DUQ  1419.881         True  \n",
       "1       DUQ  1379.505         True  \n",
       "2       DUQ  1366.106         True  \n",
       "3       DUQ  1364.453         True  \n",
       "4       DUQ  1391.265         True  "
      ]
     },
     "execution_count": 3,
     "metadata": {},
     "output_type": "execute_result"
    }
   ],
   "source": [
    "# this is the second dataframe to use \n",
    "# this is the megawatt data \n",
    "energy = pd.read_csv('C:\\\\Users\\\\fderango\\\\Downloads\\\\Milestone 1 Dataset\\\\hrl_load.csv')\n",
    "#load.head()\n",
    "energy.head()"
   ]
  },
  {
   "cell_type": "code",
   "execution_count": 4,
   "id": "3ab7e30f",
   "metadata": {},
   "outputs": [],
   "source": [
    "# make a new dataframe from the two dataframes we have \n",
    "# make a dictionary first than make the new dataframe  \n",
    "\n",
    "\n",
    "df = {'Date': weather['DATE'],'mw': energy['mw'], 'Temp': weather['HourlyDryBulbTemperature']}\n",
    "\n",
    "#this is what we want from both dataframes \n",
    "new_df = pd.DataFrame(data=df)\n",
    "#new_df.head()"
   ]
  },
  {
   "cell_type": "code",
   "execution_count": 5,
   "id": "4a369781",
   "metadata": {},
   "outputs": [
    {
     "data": {
      "text/plain": [
       "Date    datetime64[ns]\n",
       "mw             float64\n",
       "Temp           float64\n",
       "dtype: object"
      ]
     },
     "execution_count": 5,
     "metadata": {},
     "output_type": "execute_result"
    }
   ],
   "source": [
    "new_df['Date'] = pd.to_datetime(new_df['Date'])\n",
    "new_df.dtypes"
   ]
  },
  {
   "cell_type": "code",
   "execution_count": 6,
   "id": "faf125ff",
   "metadata": {},
   "outputs": [],
   "source": [
    "new_df['year'] = new_df['Date'].dt.year\n",
    "new_df['month'] = new_df['Date'].dt.month\n",
    "new_df['day_of_week'] = new_df['Date'].dt.dayofweek\n",
    "new_df['hour_of_day'] = new_df['Date'].dt.hour"
   ]
  },
  {
   "cell_type": "code",
   "execution_count": 7,
   "id": "99716a36",
   "metadata": {},
   "outputs": [
    {
     "data": {
      "text/html": [
       "<div>\n",
       "<style scoped>\n",
       "    .dataframe tbody tr th:only-of-type {\n",
       "        vertical-align: middle;\n",
       "    }\n",
       "\n",
       "    .dataframe tbody tr th {\n",
       "        vertical-align: top;\n",
       "    }\n",
       "\n",
       "    .dataframe thead th {\n",
       "        text-align: right;\n",
       "    }\n",
       "</style>\n",
       "<table border=\"1\" class=\"dataframe\">\n",
       "  <thead>\n",
       "    <tr style=\"text-align: right;\">\n",
       "      <th></th>\n",
       "      <th>mw</th>\n",
       "      <th>Temp</th>\n",
       "      <th>year</th>\n",
       "      <th>month</th>\n",
       "      <th>day_of_week</th>\n",
       "      <th>hour_of_day</th>\n",
       "    </tr>\n",
       "    <tr>\n",
       "      <th>Date</th>\n",
       "      <th></th>\n",
       "      <th></th>\n",
       "      <th></th>\n",
       "      <th></th>\n",
       "      <th></th>\n",
       "      <th></th>\n",
       "    </tr>\n",
       "  </thead>\n",
       "  <tbody>\n",
       "    <tr>\n",
       "      <th>2017-02-01 00:53:00</th>\n",
       "      <td>1419.881</td>\n",
       "      <td>37.0</td>\n",
       "      <td>2017</td>\n",
       "      <td>2</td>\n",
       "      <td>2</td>\n",
       "      <td>0</td>\n",
       "    </tr>\n",
       "    <tr>\n",
       "      <th>2017-02-01 01:53:00</th>\n",
       "      <td>1379.505</td>\n",
       "      <td>37.0</td>\n",
       "      <td>2017</td>\n",
       "      <td>2</td>\n",
       "      <td>2</td>\n",
       "      <td>1</td>\n",
       "    </tr>\n",
       "    <tr>\n",
       "      <th>2017-02-01 02:53:00</th>\n",
       "      <td>1366.106</td>\n",
       "      <td>36.0</td>\n",
       "      <td>2017</td>\n",
       "      <td>2</td>\n",
       "      <td>2</td>\n",
       "      <td>2</td>\n",
       "    </tr>\n",
       "    <tr>\n",
       "      <th>2017-02-01 03:53:00</th>\n",
       "      <td>1364.453</td>\n",
       "      <td>36.0</td>\n",
       "      <td>2017</td>\n",
       "      <td>2</td>\n",
       "      <td>2</td>\n",
       "      <td>3</td>\n",
       "    </tr>\n",
       "    <tr>\n",
       "      <th>2017-02-01 04:53:00</th>\n",
       "      <td>1391.265</td>\n",
       "      <td>36.0</td>\n",
       "      <td>2017</td>\n",
       "      <td>2</td>\n",
       "      <td>2</td>\n",
       "      <td>4</td>\n",
       "    </tr>\n",
       "    <tr>\n",
       "      <th>...</th>\n",
       "      <td>...</td>\n",
       "      <td>...</td>\n",
       "      <td>...</td>\n",
       "      <td>...</td>\n",
       "      <td>...</td>\n",
       "      <td>...</td>\n",
       "    </tr>\n",
       "    <tr>\n",
       "      <th>2020-01-31 19:53:00</th>\n",
       "      <td>1618.484</td>\n",
       "      <td>34.0</td>\n",
       "      <td>2020</td>\n",
       "      <td>1</td>\n",
       "      <td>4</td>\n",
       "      <td>19</td>\n",
       "    </tr>\n",
       "    <tr>\n",
       "      <th>2020-01-31 20:53:00</th>\n",
       "      <td>1580.925</td>\n",
       "      <td>33.0</td>\n",
       "      <td>2020</td>\n",
       "      <td>1</td>\n",
       "      <td>4</td>\n",
       "      <td>20</td>\n",
       "    </tr>\n",
       "    <tr>\n",
       "      <th>2020-01-31 21:53:00</th>\n",
       "      <td>1545.354</td>\n",
       "      <td>33.0</td>\n",
       "      <td>2020</td>\n",
       "      <td>1</td>\n",
       "      <td>4</td>\n",
       "      <td>21</td>\n",
       "    </tr>\n",
       "    <tr>\n",
       "      <th>2020-01-31 22:53:00</th>\n",
       "      <td>1478.832</td>\n",
       "      <td>33.0</td>\n",
       "      <td>2020</td>\n",
       "      <td>1</td>\n",
       "      <td>4</td>\n",
       "      <td>22</td>\n",
       "    </tr>\n",
       "    <tr>\n",
       "      <th>2020-01-31 23:53:00</th>\n",
       "      <td>1405.188</td>\n",
       "      <td>34.0</td>\n",
       "      <td>2020</td>\n",
       "      <td>1</td>\n",
       "      <td>4</td>\n",
       "      <td>23</td>\n",
       "    </tr>\n",
       "  </tbody>\n",
       "</table>\n",
       "<p>26280 rows × 6 columns</p>\n",
       "</div>"
      ],
      "text/plain": [
       "                           mw  Temp  year  month  day_of_week  hour_of_day\n",
       "Date                                                                      \n",
       "2017-02-01 00:53:00  1419.881  37.0  2017      2            2            0\n",
       "2017-02-01 01:53:00  1379.505  37.0  2017      2            2            1\n",
       "2017-02-01 02:53:00  1366.106  36.0  2017      2            2            2\n",
       "2017-02-01 03:53:00  1364.453  36.0  2017      2            2            3\n",
       "2017-02-01 04:53:00  1391.265  36.0  2017      2            2            4\n",
       "...                       ...   ...   ...    ...          ...          ...\n",
       "2020-01-31 19:53:00  1618.484  34.0  2020      1            4           19\n",
       "2020-01-31 20:53:00  1580.925  33.0  2020      1            4           20\n",
       "2020-01-31 21:53:00  1545.354  33.0  2020      1            4           21\n",
       "2020-01-31 22:53:00  1478.832  33.0  2020      1            4           22\n",
       "2020-01-31 23:53:00  1405.188  34.0  2020      1            4           23\n",
       "\n",
       "[26280 rows x 6 columns]"
      ]
     },
     "execution_count": 7,
     "metadata": {},
     "output_type": "execute_result"
    }
   ],
   "source": [
    "new_df = new_df.set_index('Date')\n",
    "new_df"
   ]
  },
  {
   "cell_type": "code",
   "execution_count": 8,
   "id": "ca8fb012",
   "metadata": {},
   "outputs": [],
   "source": [
    "new_df['Temp'] = new_df['Temp'].interpolate(method='linear')"
   ]
  },
  {
   "cell_type": "code",
   "execution_count": 9,
   "id": "1cdd5f82",
   "metadata": {},
   "outputs": [],
   "source": [
    "train = new_df.loc['2017-02-01': '2019-12-31']\n",
    "test = new_df.loc['2020-01-01': '2020-01-31']"
   ]
  },
  {
   "cell_type": "code",
   "execution_count": 10,
   "id": "28b8eb53",
   "metadata": {},
   "outputs": [
    {
     "name": "stderr",
     "output_type": "stream",
     "text": [
      "<ipython-input-10-ba178b3c1e60>:10: SettingWithCopyWarning: \n",
      "A value is trying to be set on a copy of a slice from a DataFrame.\n",
      "Try using .loc[row_indexer,col_indexer] = value instead\n",
      "\n",
      "See the caveats in the documentation: https://pandas.pydata.org/pandas-docs/stable/user_guide/indexing.html#returning-a-view-versus-a-copy\n",
      "  train['temp_stand'] = preprocessing.scale(train['Temp'])\n",
      "<ipython-input-10-ba178b3c1e60>:12: SettingWithCopyWarning: \n",
      "A value is trying to be set on a copy of a slice from a DataFrame.\n",
      "Try using .loc[row_indexer,col_indexer] = value instead\n",
      "\n",
      "See the caveats in the documentation: https://pandas.pydata.org/pandas-docs/stable/user_guide/indexing.html#returning-a-view-versus-a-copy\n",
      "  train['temp_squared'] = np.square(train['temp_stand'])\n"
     ]
    },
    {
     "data": {
      "text/html": [
       "<div>\n",
       "<style scoped>\n",
       "    .dataframe tbody tr th:only-of-type {\n",
       "        vertical-align: middle;\n",
       "    }\n",
       "\n",
       "    .dataframe tbody tr th {\n",
       "        vertical-align: top;\n",
       "    }\n",
       "\n",
       "    .dataframe thead th {\n",
       "        text-align: right;\n",
       "    }\n",
       "</style>\n",
       "<table border=\"1\" class=\"dataframe\">\n",
       "  <thead>\n",
       "    <tr style=\"text-align: right;\">\n",
       "      <th></th>\n",
       "      <th>mw</th>\n",
       "      <th>Temp</th>\n",
       "      <th>year</th>\n",
       "      <th>month</th>\n",
       "      <th>day_of_week</th>\n",
       "      <th>hour_of_day</th>\n",
       "      <th>temp_stand</th>\n",
       "      <th>temp_squared</th>\n",
       "    </tr>\n",
       "    <tr>\n",
       "      <th>Date</th>\n",
       "      <th></th>\n",
       "      <th></th>\n",
       "      <th></th>\n",
       "      <th></th>\n",
       "      <th></th>\n",
       "      <th></th>\n",
       "      <th></th>\n",
       "      <th></th>\n",
       "    </tr>\n",
       "  </thead>\n",
       "  <tbody>\n",
       "    <tr>\n",
       "      <th>2017-02-01 00:53:00</th>\n",
       "      <td>1419.881</td>\n",
       "      <td>37.0</td>\n",
       "      <td>2017</td>\n",
       "      <td>2</td>\n",
       "      <td>2</td>\n",
       "      <td>0</td>\n",
       "      <td>-0.871516</td>\n",
       "      <td>0.759540</td>\n",
       "    </tr>\n",
       "    <tr>\n",
       "      <th>2017-02-01 01:53:00</th>\n",
       "      <td>1379.505</td>\n",
       "      <td>37.0</td>\n",
       "      <td>2017</td>\n",
       "      <td>2</td>\n",
       "      <td>2</td>\n",
       "      <td>1</td>\n",
       "      <td>-0.871516</td>\n",
       "      <td>0.759540</td>\n",
       "    </tr>\n",
       "    <tr>\n",
       "      <th>2017-02-01 02:53:00</th>\n",
       "      <td>1366.106</td>\n",
       "      <td>36.0</td>\n",
       "      <td>2017</td>\n",
       "      <td>2</td>\n",
       "      <td>2</td>\n",
       "      <td>2</td>\n",
       "      <td>-0.924513</td>\n",
       "      <td>0.854723</td>\n",
       "    </tr>\n",
       "    <tr>\n",
       "      <th>2017-02-01 03:53:00</th>\n",
       "      <td>1364.453</td>\n",
       "      <td>36.0</td>\n",
       "      <td>2017</td>\n",
       "      <td>2</td>\n",
       "      <td>2</td>\n",
       "      <td>3</td>\n",
       "      <td>-0.924513</td>\n",
       "      <td>0.854723</td>\n",
       "    </tr>\n",
       "    <tr>\n",
       "      <th>2017-02-01 04:53:00</th>\n",
       "      <td>1391.265</td>\n",
       "      <td>36.0</td>\n",
       "      <td>2017</td>\n",
       "      <td>2</td>\n",
       "      <td>2</td>\n",
       "      <td>4</td>\n",
       "      <td>-0.924513</td>\n",
       "      <td>0.854723</td>\n",
       "    </tr>\n",
       "  </tbody>\n",
       "</table>\n",
       "</div>"
      ],
      "text/plain": [
       "                           mw  Temp  year  month  day_of_week  hour_of_day  \\\n",
       "Date                                                                         \n",
       "2017-02-01 00:53:00  1419.881  37.0  2017      2            2            0   \n",
       "2017-02-01 01:53:00  1379.505  37.0  2017      2            2            1   \n",
       "2017-02-01 02:53:00  1366.106  36.0  2017      2            2            2   \n",
       "2017-02-01 03:53:00  1364.453  36.0  2017      2            2            3   \n",
       "2017-02-01 04:53:00  1391.265  36.0  2017      2            2            4   \n",
       "\n",
       "                     temp_stand  temp_squared  \n",
       "Date                                           \n",
       "2017-02-01 00:53:00   -0.871516      0.759540  \n",
       "2017-02-01 01:53:00   -0.871516      0.759540  \n",
       "2017-02-01 02:53:00   -0.924513      0.854723  \n",
       "2017-02-01 03:53:00   -0.924513      0.854723  \n",
       "2017-02-01 04:53:00   -0.924513      0.854723  "
      ]
     },
     "execution_count": 10,
     "metadata": {},
     "output_type": "execute_result"
    }
   ],
   "source": [
    "# question1 build a squared quadratic temp variable \n",
    "from sklearn import preprocessing\n",
    "\n",
    "# First standardize the variable to avoid multicollinearity  \n",
    "# standardization of dependent variables\n",
    "\n",
    "# can use either one to standardization \n",
    "\n",
    "#Temp_stand = preprocessing.scale(train['Temp'])\n",
    "train['temp_stand'] = preprocessing.scale(train['Temp'])\n",
    "# make a quadrtic variable of temp \n",
    "train['temp_squared'] = np.square(train['temp_stand'])\n",
    "train.head()"
   ]
  },
  {
   "cell_type": "code",
   "execution_count": 11,
   "id": "e6f89593",
   "metadata": {},
   "outputs": [
    {
     "name": "stdout",
     "output_type": "stream",
     "text": [
      "                            OLS Regression Results                            \n",
      "==============================================================================\n",
      "Dep. Variable:                     mw   R-squared:                       0.840\n",
      "Model:                            OLS   Adj. R-squared:                  0.839\n",
      "Method:                 Least Squares   F-statistic:                     3180.\n",
      "Date:                Fri, 01 Oct 2021   Prob (F-statistic):               0.00\n",
      "Time:                        18:56:36   Log-Likelihood:            -1.5735e+05\n",
      "No. Observations:               25536   AIC:                         3.148e+05\n",
      "Df Residuals:                   25493   BIC:                         3.151e+05\n",
      "Df Model:                          42                                         \n",
      "Covariance Type:            nonrobust                                         \n",
      "========================================================================================\n",
      "                           coef    std err          t      P>|t|      [0.025      0.975]\n",
      "----------------------------------------------------------------------------------------\n",
      "Intercept             1272.0274      5.426    234.419      0.000    1261.392    1282.663\n",
      "C(month)[T.2]           17.8145      4.079      4.367      0.000       9.819      25.810\n",
      "C(month)[T.3]          -11.2371      4.002     -2.808      0.005     -19.081      -3.393\n",
      "C(month)[T.4]         -126.7104      4.399    -28.803      0.000    -135.333    -118.088\n",
      "C(month)[T.5]         -125.2755      4.735    -26.455      0.000    -134.557    -115.994\n",
      "C(month)[T.6]          -29.4596      4.951     -5.950      0.000     -39.164     -19.755\n",
      "C(month)[T.7]           89.7562      5.169     17.364      0.000      79.624      99.888\n",
      "C(month)[T.8]           39.9371      5.022      7.953      0.000      30.095      49.780\n",
      "C(month)[T.9]          -43.9733      4.899     -8.975      0.000     -53.576     -34.370\n",
      "C(month)[T.10]         -88.8678      4.483    -19.824      0.000     -97.654     -80.081\n",
      "C(month)[T.11]          -2.2879      4.105     -0.557      0.577     -10.333       5.757\n",
      "C(month)[T.12]          31.3287      3.942      7.947      0.000      23.602      39.055\n",
      "C(day_of_week)[T.1]      9.8039      2.691      3.644      0.000       4.530      15.077\n",
      "C(day_of_week)[T.2]     21.1134      2.693      7.841      0.000      15.836      26.391\n",
      "C(day_of_week)[T.3]     17.4519      2.693      6.481      0.000      12.174      22.730\n",
      "C(day_of_week)[T.4]      1.3846      2.693      0.514      0.607      -3.893       6.662\n",
      "C(day_of_week)[T.5]    -99.3658      2.693    -36.902      0.000    -104.644     -94.088\n",
      "C(day_of_week)[T.6]   -115.8115      2.690    -43.048      0.000    -121.085    -110.538\n",
      "C(hour_of_day)[T.1]    -30.6108      4.981     -6.146      0.000     -40.373     -20.848\n",
      "C(hour_of_day)[T.2]    -45.1860      4.981     -9.071      0.000     -54.950     -35.422\n",
      "C(hour_of_day)[T.3]    -37.6119      4.982     -7.549      0.000     -47.377     -27.846\n",
      "C(hour_of_day)[T.4]      3.7713      4.983      0.757      0.449      -5.996      13.539\n",
      "C(hour_of_day)[T.5]     70.9284      4.984     14.232      0.000      61.160      80.697\n",
      "C(hour_of_day)[T.6]    137.3154      4.982     27.562      0.000     127.550     147.081\n",
      "C(hour_of_day)[T.7]    187.4329      4.981     37.628      0.000     177.669     197.196\n",
      "C(hour_of_day)[T.8]    222.5454      4.985     44.644      0.000     212.775     232.316\n",
      "C(hour_of_day)[T.9]    248.4646      4.995     49.739      0.000     238.673     258.256\n",
      "C(hour_of_day)[T.10]   263.4295      5.011     52.571      0.000     253.608     273.251\n",
      "C(hour_of_day)[T.11]   272.4943      5.027     54.207      0.000     262.641     282.347\n",
      "C(hour_of_day)[T.12]   277.6490      5.042     55.065      0.000     267.766     287.532\n",
      "C(hour_of_day)[T.13]   278.7407      5.052     55.175      0.000     268.839     288.643\n",
      "C(hour_of_day)[T.14]   277.4274      5.056     54.868      0.000     267.517     287.338\n",
      "C(hour_of_day)[T.15]   285.2792      5.051     56.477      0.000     275.378     295.180\n",
      "C(hour_of_day)[T.16]   298.7924      5.039     59.300      0.000     288.916     308.668\n",
      "C(hour_of_day)[T.17]   316.5233      5.023     63.021      0.000     306.679     326.368\n",
      "C(hour_of_day)[T.18]   324.6099      5.006     64.839      0.000     314.797     334.423\n",
      "C(hour_of_day)[T.19]   321.9333      4.994     64.458      0.000     312.144     331.723\n",
      "C(hour_of_day)[T.20]   290.1282      4.988     58.163      0.000     280.351     299.905\n",
      "C(hour_of_day)[T.21]   216.6446      4.984     43.466      0.000     206.875     226.414\n",
      "C(hour_of_day)[T.22]   127.7315      4.982     25.639      0.000     117.967     137.496\n",
      "C(hour_of_day)[T.23]    50.5350      4.981     10.146      0.000      40.772      60.298\n",
      "temp_stand             128.9826      1.487     86.748      0.000     126.068     131.897\n",
      "temp_squared           151.5249      0.781    194.015      0.000     149.994     153.056\n",
      "==============================================================================\n",
      "Omnibus:                      677.532   Durbin-Watson:                   0.101\n",
      "Prob(Omnibus):                  0.000   Jarque-Bera (JB):             1684.679\n",
      "Skew:                           0.031   Prob(JB):                         0.00\n",
      "Kurtosis:                       4.257   Cond. No.                         42.8\n",
      "==============================================================================\n",
      "\n",
      "Notes:\n",
      "[1] Standard Errors assume that the covariance matrix of the errors is correctly specified.\n"
     ]
    }
   ],
   "source": [
    "# make a regression model \n",
    "# don't need to use temp and also include temp stand in the model \n",
    "mod = smf.ols(formula='mw ~ temp_stand + temp_squared + C(month) + C(day_of_week) + C(hour_of_day)', data=train)\n",
    "res_1 = mod.fit()\n",
    "print(res_1.summary())\n",
    "#print(res_1.resid)"
   ]
  },
  {
   "cell_type": "code",
   "execution_count": 12,
   "id": "2d42ec45",
   "metadata": {},
   "outputs": [
    {
     "name": "stderr",
     "output_type": "stream",
     "text": [
      "<ipython-input-12-5f53a7d42c31>:3: SettingWithCopyWarning: \n",
      "A value is trying to be set on a copy of a slice from a DataFrame.\n",
      "Try using .loc[row_indexer,col_indexer] = value instead\n",
      "\n",
      "See the caveats in the documentation: https://pandas.pydata.org/pandas-docs/stable/user_guide/indexing.html#returning-a-view-versus-a-copy\n",
      "  train['yhat_ols'] = res_1.predict(train)\n"
     ]
    },
    {
     "data": {
      "text/html": [
       "<div>\n",
       "<style scoped>\n",
       "    .dataframe tbody tr th:only-of-type {\n",
       "        vertical-align: middle;\n",
       "    }\n",
       "\n",
       "    .dataframe tbody tr th {\n",
       "        vertical-align: top;\n",
       "    }\n",
       "\n",
       "    .dataframe thead th {\n",
       "        text-align: right;\n",
       "    }\n",
       "</style>\n",
       "<table border=\"1\" class=\"dataframe\">\n",
       "  <thead>\n",
       "    <tr style=\"text-align: right;\">\n",
       "      <th></th>\n",
       "      <th>mw</th>\n",
       "      <th>Temp</th>\n",
       "      <th>year</th>\n",
       "      <th>month</th>\n",
       "      <th>day_of_week</th>\n",
       "      <th>hour_of_day</th>\n",
       "      <th>temp_stand</th>\n",
       "      <th>temp_squared</th>\n",
       "      <th>yhat_ols</th>\n",
       "    </tr>\n",
       "    <tr>\n",
       "      <th>Date</th>\n",
       "      <th></th>\n",
       "      <th></th>\n",
       "      <th></th>\n",
       "      <th></th>\n",
       "      <th></th>\n",
       "      <th></th>\n",
       "      <th></th>\n",
       "      <th></th>\n",
       "      <th></th>\n",
       "    </tr>\n",
       "  </thead>\n",
       "  <tbody>\n",
       "    <tr>\n",
       "      <th>2017-02-01 00:53:00</th>\n",
       "      <td>1419.881</td>\n",
       "      <td>37.0</td>\n",
       "      <td>2017</td>\n",
       "      <td>2</td>\n",
       "      <td>2</td>\n",
       "      <td>0</td>\n",
       "      <td>-0.871516</td>\n",
       "      <td>0.759540</td>\n",
       "      <td>1313.634130</td>\n",
       "    </tr>\n",
       "    <tr>\n",
       "      <th>2017-02-01 01:53:00</th>\n",
       "      <td>1379.505</td>\n",
       "      <td>37.0</td>\n",
       "      <td>2017</td>\n",
       "      <td>2</td>\n",
       "      <td>2</td>\n",
       "      <td>1</td>\n",
       "      <td>-0.871516</td>\n",
       "      <td>0.759540</td>\n",
       "      <td>1283.023332</td>\n",
       "    </tr>\n",
       "    <tr>\n",
       "      <th>2017-02-01 02:53:00</th>\n",
       "      <td>1366.106</td>\n",
       "      <td>36.0</td>\n",
       "      <td>2017</td>\n",
       "      <td>2</td>\n",
       "      <td>2</td>\n",
       "      <td>2</td>\n",
       "      <td>-0.924513</td>\n",
       "      <td>0.854723</td>\n",
       "      <td>1276.035116</td>\n",
       "    </tr>\n",
       "    <tr>\n",
       "      <th>2017-02-01 03:53:00</th>\n",
       "      <td>1364.453</td>\n",
       "      <td>36.0</td>\n",
       "      <td>2017</td>\n",
       "      <td>2</td>\n",
       "      <td>2</td>\n",
       "      <td>3</td>\n",
       "      <td>-0.924513</td>\n",
       "      <td>0.854723</td>\n",
       "      <td>1283.609276</td>\n",
       "    </tr>\n",
       "    <tr>\n",
       "      <th>2017-02-01 04:53:00</th>\n",
       "      <td>1391.265</td>\n",
       "      <td>36.0</td>\n",
       "      <td>2017</td>\n",
       "      <td>2</td>\n",
       "      <td>2</td>\n",
       "      <td>4</td>\n",
       "      <td>-0.924513</td>\n",
       "      <td>0.854723</td>\n",
       "      <td>1324.992443</td>\n",
       "    </tr>\n",
       "  </tbody>\n",
       "</table>\n",
       "</div>"
      ],
      "text/plain": [
       "                           mw  Temp  year  month  day_of_week  hour_of_day  \\\n",
       "Date                                                                         \n",
       "2017-02-01 00:53:00  1419.881  37.0  2017      2            2            0   \n",
       "2017-02-01 01:53:00  1379.505  37.0  2017      2            2            1   \n",
       "2017-02-01 02:53:00  1366.106  36.0  2017      2            2            2   \n",
       "2017-02-01 03:53:00  1364.453  36.0  2017      2            2            3   \n",
       "2017-02-01 04:53:00  1391.265  36.0  2017      2            2            4   \n",
       "\n",
       "                     temp_stand  temp_squared     yhat_ols  \n",
       "Date                                                        \n",
       "2017-02-01 00:53:00   -0.871516      0.759540  1313.634130  \n",
       "2017-02-01 01:53:00   -0.871516      0.759540  1283.023332  \n",
       "2017-02-01 02:53:00   -0.924513      0.854723  1276.035116  \n",
       "2017-02-01 03:53:00   -0.924513      0.854723  1283.609276  \n",
       "2017-02-01 04:53:00   -0.924513      0.854723  1324.992443  "
      ]
     },
     "execution_count": 12,
     "metadata": {},
     "output_type": "execute_result"
    }
   ],
   "source": [
    "# this the predictions for the training set using OLS \n",
    "\n",
    "train['yhat_ols'] = res_1.predict(train)\n",
    "train.head()"
   ]
  },
  {
   "cell_type": "markdown",
   "id": "7adf6e57",
   "metadata": {},
   "source": [
    "milestone #4 starts now  "
   ]
  },
  {
   "cell_type": "code",
   "execution_count": 13,
   "id": "30c849c7",
   "metadata": {},
   "outputs": [
    {
     "name": "stderr",
     "output_type": "stream",
     "text": [
      "<ipython-input-13-b3ecafc33209>:6: SettingWithCopyWarning: \n",
      "A value is trying to be set on a copy of a slice from a DataFrame.\n",
      "Try using .loc[row_indexer,col_indexer] = value instead\n",
      "\n",
      "See the caveats in the documentation: https://pandas.pydata.org/pandas-docs/stable/user_guide/indexing.html#returning-a-view-versus-a-copy\n",
      "  train['residuals'] = res_1.resid\n"
     ]
    },
    {
     "data": {
      "text/plain": [
       "Date\n",
       "2017-02-01 00:53:00    106.246870\n",
       "2017-02-01 01:53:00     96.481668\n",
       "2017-02-01 02:53:00     90.070884\n",
       "2017-02-01 03:53:00     80.843724\n",
       "2017-02-01 04:53:00     66.272557\n",
       "                          ...    \n",
       "2019-12-31 19:53:00    -78.084666\n",
       "2019-12-31 20:53:00    -87.399614\n",
       "2019-12-31 21:53:00    -63.024948\n",
       "2019-12-31 22:53:00    -40.034552\n",
       "2019-12-31 23:53:00    -15.640103\n",
       "Name: residuals, Length: 25536, dtype: float64"
      ]
     },
     "execution_count": 13,
     "metadata": {},
     "output_type": "execute_result"
    }
   ],
   "source": [
    "#question #1 save the residuls and make it variable \n",
    "\n",
    "# this is the residuls from a perivous model above we created\n",
    "# you can use the resid function to get the residuls  \n",
    "# make a new column for training\n",
    "train['residuals'] = res_1.resid\n",
    "train['residuals']"
   ]
  },
  {
   "cell_type": "code",
   "execution_count": 14,
   "id": "bf411c78",
   "metadata": {},
   "outputs": [
    {
     "data": {
      "text/plain": [
       "<function matplotlib.pyplot.show(close=None, block=None)>"
      ]
     },
     "execution_count": 14,
     "metadata": {},
     "output_type": "execute_result"
    },
    {
     "data": {
      "image/png": "[encoded data removed]",
      "text/plain": [
       "<Figure size 648x504 with 1 Axes>"
      ]
     },
     "metadata": {
      "needs_background": "light"
     },
     "output_type": "display_data"
    }
   ],
   "source": [
    "# question #2 plot the residuls over time in the training set \n",
    "#train_mw = train['mw']\n",
    "#week = new_df.loc['2019-12-01':'2019-12-07']\n",
    "\n",
    "# you can plot both variables togther for one plot. I thought it was two plot but I only needed one line not two.  \n",
    "train['2019-12-01':'2019-12-07']['residuals'].plot(color='green', figsize=(9,7)) \n",
    "plt.xlabel(\"date\", fontsize=14)\n",
    "plt.ylabel(\"residuals\")\n",
    "#train_mw['2019-12-01':'2019-12-07'].plot(color='blue', figsize=(9,7))\n",
    "#plt.legend()\n",
    "plt.show"
   ]
  },
  {
   "cell_type": "markdown",
   "id": "b1dc8ed7",
   "metadata": {},
   "source": [
    " different hours of each day the prediction of energy is worse  "
   ]
  },
  {
   "cell_type": "code",
   "execution_count": 15,
   "id": "d37c400f",
   "metadata": {},
   "outputs": [
    {
     "name": "stdout",
     "output_type": "stream",
     "text": [
      "                       ExponentialSmoothing Model Results                       \n",
      "================================================================================\n",
      "Dep. Variable:                residuals   No. Observations:                25536\n",
      "Model:             ExponentialSmoothing   SSE                       34111879.807\n",
      "Optimized:                         True   AIC                         183794.553\n",
      "Trend:                             None   BIC                         183810.849\n",
      "Seasonal:                          None   AICC                        183794.555\n",
      "Seasonal Periods:                  None   Date:                 Fri, 01 Oct 2021\n",
      "Box-Cox:                          False   Time:                         18:57:17\n",
      "Box-Cox Coeff.:                    None                                         \n",
      "==============================================================================\n",
      "                       coeff                 code              optimized      \n",
      "------------------------------------------------------------------------------\n",
      "smoothing_level            0.9950000                alpha                 True\n",
      "initial_level              106.24687                  l.0                 True\n",
      "------------------------------------------------------------------------------\n"
     ]
    },
    {
     "name": "stderr",
     "output_type": "stream",
     "text": [
      "C:\\Anaconda3\\envs\\Phishing\\lib\\site-packages\\statsmodels\\tsa\\base\\tsa_model.py:581: ValueWarning: A date index has been provided, but it has no associated frequency information and so will be ignored when e.g. forecasting.\n",
      "  warnings.warn('A date index has been provided, but it has no'\n",
      "C:\\Anaconda3\\envs\\Phishing\\lib\\site-packages\\statsmodels\\tsa\\holtwinters\\model.py:427: FutureWarning: After 0.13 initialization must be handled at model creation\n",
      "  warnings.warn(\n"
     ]
    }
   ],
   "source": [
    "#question #3 exponential smoothing to start us with the time series \n",
    "\n",
    "# build a exponential model \n",
    "exp = ExponentialSmoothing(train['residuals'],seasonal_periods=24)\n",
    "res = exp.fit()\n",
    "print(res.summary())\n",
    " \n"
   ]
  },
  {
   "cell_type": "code",
   "execution_count": 16,
   "id": "9218920b",
   "metadata": {},
   "outputs": [
    {
     "name": "stderr",
     "output_type": "stream",
     "text": [
      "<ipython-input-16-9baeaad9f2c1>:2: SettingWithCopyWarning: \n",
      "A value is trying to be set on a copy of a slice from a DataFrame.\n",
      "Try using .loc[row_indexer,col_indexer] = value instead\n",
      "\n",
      "See the caveats in the documentation: https://pandas.pydata.org/pandas-docs/stable/user_guide/indexing.html#returning-a-view-versus-a-copy\n",
      "  train['yhat_expo'] = res.predict(start='2017-02-01',end='2019-12-31')\n"
     ]
    },
    {
     "data": {
      "text/plain": [
       "Date\n",
       "2017-02-01 00:53:00    106.246870\n",
       "2017-02-01 01:53:00    106.246870\n",
       "2017-02-01 02:53:00     96.530494\n",
       "2017-02-01 03:53:00     90.103182\n",
       "2017-02-01 04:53:00     80.890021\n",
       "Name: yhat_expo, dtype: float64"
      ]
     },
     "execution_count": 16,
     "metadata": {},
     "output_type": "execute_result"
    }
   ],
   "source": [
    "# get the predicted values of the residuals \n",
    "train['yhat_expo'] = res.predict(start='2017-02-01',end='2019-12-31')\n",
    "train['yhat_expo'].head()"
   ]
  },
  {
   "cell_type": "code",
   "execution_count": 17,
   "id": "6b3c00fc",
   "metadata": {},
   "outputs": [
    {
     "name": "stderr",
     "output_type": "stream",
     "text": [
      "<ipython-input-17-3e1abeb1571c>:2: SettingWithCopyWarning: \n",
      "A value is trying to be set on a copy of a slice from a DataFrame.\n",
      "Try using .loc[row_indexer,col_indexer] = value instead\n",
      "\n",
      "See the caveats in the documentation: https://pandas.pydata.org/pandas-docs/stable/user_guide/indexing.html#returning-a-view-versus-a-copy\n",
      "  train['yhat_total'] = train['yhat_expo'] + train['yhat_ols']\n"
     ]
    },
    {
     "data": {
      "text/plain": [
       "Date\n",
       "2017-02-01 00:53:00    1419.881000\n",
       "2017-02-01 01:53:00    1389.270202\n",
       "2017-02-01 02:53:00    1372.565610\n",
       "2017-02-01 03:53:00    1373.712458\n",
       "2017-02-01 04:53:00    1405.882464\n",
       "Name: yhat_total, dtype: float64"
      ]
     },
     "execution_count": 17,
     "metadata": {},
     "output_type": "execute_result"
    }
   ],
   "source": [
    "#this is total predictions for OLS AND EXPONENTIAL \n",
    "train['yhat_total'] = train['yhat_expo'] + train['yhat_ols']\n",
    "train['yhat_total'].head()"
   ]
  },
  {
   "cell_type": "code",
   "execution_count": 18,
   "id": "34300884",
   "metadata": {},
   "outputs": [
    {
     "name": "stdout",
     "output_type": "stream",
     "text": [
      "Dynamic model MAPE is: 1.7072096133073178\n"
     ]
    },
    {
     "name": "stderr",
     "output_type": "stream",
     "text": [
      "<ipython-input-18-83e5df3b1bce>:7: SettingWithCopyWarning: \n",
      "A value is trying to be set on a copy of a slice from a DataFrame.\n",
      "Try using .loc[row_indexer,col_indexer] = value instead\n",
      "\n",
      "See the caveats in the documentation: https://pandas.pydata.org/pandas-docs/stable/user_guide/indexing.html#returning-a-view-versus-a-copy\n",
      "  train['mape'] = np.abs((train['mw'] - train['yhat_total'])/train['mw'])*100\n"
     ]
    }
   ],
   "source": [
    "# Calculate the MAPE the new predictions for the training set \n",
    "\n",
    "# Get the mape for the model \n",
    "\n",
    "# we are measureing the accuarcy of the model \n",
    "# and make it a column as well \n",
    "train['mape'] = np.abs((train['mw'] - train['yhat_total'])/train['mw'])*100\n",
    "print('Dynamic model MAPE is:',train['mape'].mean())"
   ]
  },
  {
   "cell_type": "markdown",
   "id": "8a46c276",
   "metadata": {},
   "source": [
    "The Dynamic MAPE decreased to 1.7 where the Naive model was 3.3 "
   ]
  },
  {
   "cell_type": "code",
   "execution_count": 19,
   "id": "b8f15033",
   "metadata": {},
   "outputs": [
    {
     "name": "stderr",
     "output_type": "stream",
     "text": [
      "<ipython-input-19-f88b7e2e39dc>:5: SettingWithCopyWarning: \n",
      "A value is trying to be set on a copy of a slice from a DataFrame.\n",
      "Try using .loc[row_indexer,col_indexer] = value instead\n",
      "\n",
      "See the caveats in the documentation: https://pandas.pydata.org/pandas-docs/stable/user_guide/indexing.html#returning-a-view-versus-a-copy\n",
      "  test['temp_stand'] = preprocessing.scale(test['Temp'])\n",
      "<ipython-input-19-f88b7e2e39dc>:7: SettingWithCopyWarning: \n",
      "A value is trying to be set on a copy of a slice from a DataFrame.\n",
      "Try using .loc[row_indexer,col_indexer] = value instead\n",
      "\n",
      "See the caveats in the documentation: https://pandas.pydata.org/pandas-docs/stable/user_guide/indexing.html#returning-a-view-versus-a-copy\n",
      "  test['temp_squared'] = np.square(test['temp_stand'])\n"
     ]
    },
    {
     "data": {
      "text/html": [
       "<div>\n",
       "<style scoped>\n",
       "    .dataframe tbody tr th:only-of-type {\n",
       "        vertical-align: middle;\n",
       "    }\n",
       "\n",
       "    .dataframe tbody tr th {\n",
       "        vertical-align: top;\n",
       "    }\n",
       "\n",
       "    .dataframe thead th {\n",
       "        text-align: right;\n",
       "    }\n",
       "</style>\n",
       "<table border=\"1\" class=\"dataframe\">\n",
       "  <thead>\n",
       "    <tr style=\"text-align: right;\">\n",
       "      <th></th>\n",
       "      <th>mw</th>\n",
       "      <th>Temp</th>\n",
       "      <th>year</th>\n",
       "      <th>month</th>\n",
       "      <th>day_of_week</th>\n",
       "      <th>hour_of_day</th>\n",
       "      <th>temp_stand</th>\n",
       "      <th>temp_squared</th>\n",
       "    </tr>\n",
       "    <tr>\n",
       "      <th>Date</th>\n",
       "      <th></th>\n",
       "      <th></th>\n",
       "      <th></th>\n",
       "      <th></th>\n",
       "      <th></th>\n",
       "      <th></th>\n",
       "      <th></th>\n",
       "      <th></th>\n",
       "    </tr>\n",
       "  </thead>\n",
       "  <tbody>\n",
       "    <tr>\n",
       "      <th>2020-01-01 00:53:00</th>\n",
       "      <td>1363.428</td>\n",
       "      <td>31.0</td>\n",
       "      <td>2020</td>\n",
       "      <td>1</td>\n",
       "      <td>2</td>\n",
       "      <td>0</td>\n",
       "      <td>-0.435747</td>\n",
       "      <td>0.189876</td>\n",
       "    </tr>\n",
       "    <tr>\n",
       "      <th>2020-01-01 01:53:00</th>\n",
       "      <td>1335.975</td>\n",
       "      <td>29.0</td>\n",
       "      <td>2020</td>\n",
       "      <td>1</td>\n",
       "      <td>2</td>\n",
       "      <td>1</td>\n",
       "      <td>-0.628263</td>\n",
       "      <td>0.394714</td>\n",
       "    </tr>\n",
       "    <tr>\n",
       "      <th>2020-01-01 02:53:00</th>\n",
       "      <td>1296.817</td>\n",
       "      <td>30.0</td>\n",
       "      <td>2020</td>\n",
       "      <td>1</td>\n",
       "      <td>2</td>\n",
       "      <td>2</td>\n",
       "      <td>-0.532005</td>\n",
       "      <td>0.283029</td>\n",
       "    </tr>\n",
       "    <tr>\n",
       "      <th>2020-01-01 03:53:00</th>\n",
       "      <td>1288.403</td>\n",
       "      <td>30.0</td>\n",
       "      <td>2020</td>\n",
       "      <td>1</td>\n",
       "      <td>2</td>\n",
       "      <td>3</td>\n",
       "      <td>-0.532005</td>\n",
       "      <td>0.283029</td>\n",
       "    </tr>\n",
       "    <tr>\n",
       "      <th>2020-01-01 04:53:00</th>\n",
       "      <td>1292.263</td>\n",
       "      <td>31.0</td>\n",
       "      <td>2020</td>\n",
       "      <td>1</td>\n",
       "      <td>2</td>\n",
       "      <td>4</td>\n",
       "      <td>-0.435747</td>\n",
       "      <td>0.189876</td>\n",
       "    </tr>\n",
       "  </tbody>\n",
       "</table>\n",
       "</div>"
      ],
      "text/plain": [
       "                           mw  Temp  year  month  day_of_week  hour_of_day  \\\n",
       "Date                                                                         \n",
       "2020-01-01 00:53:00  1363.428  31.0  2020      1            2            0   \n",
       "2020-01-01 01:53:00  1335.975  29.0  2020      1            2            1   \n",
       "2020-01-01 02:53:00  1296.817  30.0  2020      1            2            2   \n",
       "2020-01-01 03:53:00  1288.403  30.0  2020      1            2            3   \n",
       "2020-01-01 04:53:00  1292.263  31.0  2020      1            2            4   \n",
       "\n",
       "                     temp_stand  temp_squared  \n",
       "Date                                           \n",
       "2020-01-01 00:53:00   -0.435747      0.189876  \n",
       "2020-01-01 01:53:00   -0.628263      0.394714  \n",
       "2020-01-01 02:53:00   -0.532005      0.283029  \n",
       "2020-01-01 03:53:00   -0.532005      0.283029  \n",
       "2020-01-01 04:53:00   -0.435747      0.189876  "
      ]
     },
     "execution_count": 19,
     "metadata": {},
     "output_type": "execute_result"
    }
   ],
   "source": [
    "#Forcasting the next 744 hours of residuals which start at january 2020 to the last date  \n",
    "# need to build the model for test and then i can get the residuals\n",
    "\n",
    "#need the variables first for scaling \n",
    "test['temp_stand'] = preprocessing.scale(test['Temp'])\n",
    "# make a quadrtic variable of temp \n",
    "test['temp_squared'] = np.square(test['temp_stand'])\n",
    "test.head()\n",
    "\n",
    "\n"
   ]
  },
  {
   "cell_type": "code",
   "execution_count": 20,
   "id": "12be00b5",
   "metadata": {},
   "outputs": [
    {
     "name": "stdout",
     "output_type": "stream",
     "text": [
      "                            OLS Regression Results                            \n",
      "==============================================================================\n",
      "Dep. Variable:                     mw   R-squared:                       0.907\n",
      "Model:                            OLS   Adj. R-squared:                  0.903\n",
      "Method:                 Least Squares   F-statistic:                     223.2\n",
      "Date:                Fri, 01 Oct 2021   Prob (F-statistic):               0.00\n",
      "Time:                        18:58:16   Log-Likelihood:                -3962.5\n",
      "No. Observations:                 744   AIC:                             7989.\n",
      "Df Residuals:                     712   BIC:                             8137.\n",
      "Df Model:                          31                                         \n",
      "Covariance Type:            nonrobust                                         \n",
      "========================================================================================\n",
      "                           coef    std err          t      P>|t|      [0.025      0.975]\n",
      "----------------------------------------------------------------------------------------\n",
      "Intercept             1332.6175     10.450    127.520      0.000    1312.100    1353.135\n",
      "C(day_of_week)[T.1]     19.4720      7.343      2.652      0.008       5.055      33.889\n",
      "C(day_of_week)[T.2]    -11.2830      6.964     -1.620      0.106     -24.956       2.390\n",
      "C(day_of_week)[T.3]     36.6793      6.974      5.260      0.000      22.988      50.371\n",
      "C(day_of_week)[T.4]     24.2248      7.120      3.403      0.001      10.247      38.203\n",
      "C(day_of_week)[T.5]    -78.4430      7.752    -10.119      0.000     -93.663     -63.223\n",
      "C(day_of_week)[T.6]   -120.1734      7.341    -16.370      0.000    -134.586    -105.761\n",
      "C(hour_of_day)[T.1]    -30.5204     12.917     -2.363      0.018     -55.881      -5.160\n",
      "C(hour_of_day)[T.2]    -46.9659     12.918     -3.636      0.000     -72.327     -21.605\n",
      "C(hour_of_day)[T.3]    -53.8151     12.919     -4.166      0.000     -79.178     -28.452\n",
      "C(hour_of_day)[T.4]    -33.7131     12.920     -2.609      0.009     -59.080      -8.346\n",
      "C(hour_of_day)[T.5]     22.8184     12.921      1.766      0.078      -2.549      48.186\n",
      "C(hour_of_day)[T.6]    109.4013     12.922      8.466      0.000      84.032     134.771\n",
      "C(hour_of_day)[T.7]    183.7413     12.923     14.218      0.000     158.370     209.113\n",
      "C(hour_of_day)[T.8]    212.8013     12.922     16.468      0.000     187.432     238.171\n",
      "C(hour_of_day)[T.9]    244.3093     12.922     18.906      0.000     218.939     269.679\n",
      "C(hour_of_day)[T.10]   268.1514     12.926     20.744      0.000     242.773     293.530\n",
      "C(hour_of_day)[T.11]   277.8726     12.932     21.487      0.000     252.483     303.262\n",
      "C(hour_of_day)[T.12]   278.4163     12.939     21.517      0.000     253.013     303.820\n",
      "C(hour_of_day)[T.13]   274.6559     12.947     21.213      0.000     249.236     300.075\n",
      "C(hour_of_day)[T.14]   263.0342     12.950     20.311      0.000     237.609     288.460\n",
      "C(hour_of_day)[T.15]   252.9730     12.948     19.537      0.000     227.551     278.395\n",
      "C(hour_of_day)[T.16]   264.4566     12.942     20.433      0.000     239.047     289.866\n",
      "C(hour_of_day)[T.17]   315.4007     12.933     24.388      0.000     290.010     340.792\n",
      "C(hour_of_day)[T.18]   321.5929     12.929     24.873      0.000     296.209     346.977\n",
      "C(hour_of_day)[T.19]   293.1787     12.925     22.684      0.000     267.804     318.554\n",
      "C(hour_of_day)[T.20]   261.9613     12.921     20.274      0.000     236.593     287.330\n",
      "C(hour_of_day)[T.21]   208.5787     12.920     16.144      0.000     183.213     233.944\n",
      "C(hour_of_day)[T.22]   131.5725     12.919     10.184      0.000     106.208     156.937\n",
      "C(hour_of_day)[T.23]    54.7387     12.918      4.238      0.000      29.377      80.100\n",
      "temp_stand             -89.8740      2.161    -41.580      0.000     -94.118     -85.630\n",
      "temp_squared             8.8405      1.271      6.957      0.000       6.346      11.336\n",
      "==============================================================================\n",
      "Omnibus:                       85.938   Durbin-Watson:                   0.190\n",
      "Prob(Omnibus):                  0.000   Jarque-Bera (JB):              129.971\n",
      "Skew:                          -0.800   Prob(JB):                     5.99e-29\n",
      "Kurtosis:                       4.278   Cond. No.                         48.9\n",
      "==============================================================================\n",
      "\n",
      "Notes:\n",
      "[1] Standard Errors assume that the covariance matrix of the errors is correctly specified.\n"
     ]
    }
   ],
   "source": [
    "# building the ols model with test  \n",
    "mod_test = smf.ols(formula='mw ~ temp_stand + temp_squared + C(month) + C(day_of_week) + C(hour_of_day)', data=test)\n",
    "res_ols = mod_test.fit()\n",
    "print(res_ols.summary())"
   ]
  },
  {
   "cell_type": "code",
   "execution_count": 21,
   "id": "2769b1c8",
   "metadata": {},
   "outputs": [
    {
     "name": "stderr",
     "output_type": "stream",
     "text": [
      "<ipython-input-21-d5b8d27c9f63>:3: SettingWithCopyWarning: \n",
      "A value is trying to be set on a copy of a slice from a DataFrame.\n",
      "Try using .loc[row_indexer,col_indexer] = value instead\n",
      "\n",
      "See the caveats in the documentation: https://pandas.pydata.org/pandas-docs/stable/user_guide/indexing.html#returning-a-view-versus-a-copy\n",
      "  test['residuals'] = res_ols.resid\n"
     ]
    },
    {
     "data": {
      "text/plain": [
       "Date\n",
       "2020-01-01 00:53:00     1.252472\n",
       "2020-01-01 01:53:00   -14.793154\n",
       "2020-01-01 02:53:00   -27.867199\n",
       "2020-01-01 03:53:00   -29.432053\n",
       "2020-01-01 04:53:00   -36.199422\n",
       "                         ...    \n",
       "2020-01-31 19:53:00   -44.937207\n",
       "2020-01-31 20:53:00   -60.261858\n",
       "2020-01-31 21:53:00   -42.450332\n",
       "2020-01-31 22:53:00   -31.966072\n",
       "2020-01-31 23:53:00   -19.793213\n",
       "Name: residuals, Length: 744, dtype: float64"
      ]
     },
     "execution_count": 21,
     "metadata": {},
     "output_type": "execute_result"
    }
   ],
   "source": [
    "# getting residuals from the model for test  \n",
    "\n",
    "test['residuals'] = res_ols.resid\n",
    "test['residuals']"
   ]
  },
  {
   "cell_type": "code",
   "execution_count": 22,
   "id": "5c085ef1",
   "metadata": {},
   "outputs": [
    {
     "data": {
      "text/plain": [
       "<function matplotlib.pyplot.show(close=None, block=None)>"
      ]
     },
     "execution_count": 22,
     "metadata": {},
     "output_type": "execute_result"
    },
    {
     "data": {
      "image/png": "[encoded data removed]",
      "text/plain": [
       "<Figure size 648x504 with 1 Axes>"
      ]
     },
     "metadata": {
      "needs_background": "light"
     },
     "output_type": "display_data"
    }
   ],
   "source": [
    "# plot residuals so we can see what we were looking at   \n",
    "\n",
    "# you can plot both variables togther for one plot. I thought it was two plot but I only needed one line not two.  \n",
    "test['2020-01-01':'2020-01-31']['residuals'].plot(color='green', figsize=(9,7)) \n",
    "plt.xlabel(\"date\", fontsize=14)\n",
    "plt.ylabel(\"residuals\")\n",
    "#train_mw['2019-12-01':'2019-12-07'].plot(color='blue', figsize=(9,7))\n",
    "#plt.legend()\n",
    "plt.show"
   ]
  },
  {
   "cell_type": "code",
   "execution_count": 23,
   "id": "3d9e5b5c",
   "metadata": {},
   "outputs": [
    {
     "name": "stdout",
     "output_type": "stream",
     "text": [
      "                       ExponentialSmoothing Model Results                       \n",
      "================================================================================\n",
      "Dep. Variable:                residuals   No. Observations:                  744\n",
      "Model:             ExponentialSmoothing   SSE                         349221.940\n",
      "Optimized:                         True   AIC                           4580.658\n",
      "Trend:                             None   BIC                           4589.882\n",
      "Seasonal:                          None   AICC                          4580.712\n",
      "Seasonal Periods:                  None   Date:                 Fri, 01 Oct 2021\n",
      "Box-Cox:                          False   Time:                         18:59:44\n",
      "Box-Cox Coeff.:                    None                                         \n",
      "==============================================================================\n",
      "                       coeff                 code              optimized      \n",
      "------------------------------------------------------------------------------\n",
      "smoothing_level            1.0000000                alpha                 True\n",
      "initial_level              1.2518383                  l.0                 True\n",
      "------------------------------------------------------------------------------\n"
     ]
    },
    {
     "name": "stderr",
     "output_type": "stream",
     "text": [
      "C:\\Anaconda3\\envs\\Phishing\\lib\\site-packages\\statsmodels\\tsa\\base\\tsa_model.py:581: ValueWarning: A date index has been provided, but it has no associated frequency information and so will be ignored when e.g. forecasting.\n",
      "  warnings.warn('A date index has been provided, but it has no'\n",
      "C:\\Anaconda3\\envs\\Phishing\\lib\\site-packages\\statsmodels\\tsa\\holtwinters\\model.py:427: FutureWarning: After 0.13 initialization must be handled at model creation\n",
      "  warnings.warn(\n"
     ]
    }
   ],
   "source": [
    "# build a exponential model \n",
    "exp_test = ExponentialSmoothing(test['residuals'],seasonal_periods=24)\n",
    "res_2_exp = exp_test.fit()\n",
    "print(res_2_exp.summary())\n",
    " "
   ]
  },
  {
   "cell_type": "code",
   "execution_count": 24,
   "id": "dd24406f",
   "metadata": {},
   "outputs": [
    {
     "name": "stderr",
     "output_type": "stream",
     "text": [
      "<ipython-input-24-9aa127150098>:2: SettingWithCopyWarning: \n",
      "A value is trying to be set on a copy of a slice from a DataFrame.\n",
      "Try using .loc[row_indexer,col_indexer] = value instead\n",
      "\n",
      "See the caveats in the documentation: https://pandas.pydata.org/pandas-docs/stable/user_guide/indexing.html#returning-a-view-versus-a-copy\n",
      "  test['yhat_expo'] = res_2_exp.predict(start='2020-01-01',end='2020-01-31')\n"
     ]
    },
    {
     "data": {
      "text/plain": [
       "Date\n",
       "2020-01-01 00:53:00     1.251838\n",
       "2020-01-01 01:53:00     1.252472\n",
       "2020-01-01 02:53:00   -14.793154\n",
       "2020-01-01 03:53:00   -27.867199\n",
       "2020-01-01 04:53:00   -29.432053\n",
       "Name: yhat_expo, dtype: float64"
      ]
     },
     "execution_count": 24,
     "metadata": {},
     "output_type": "execute_result"
    }
   ],
   "source": [
    "# get the predicted values of the residuals \n",
    "test['yhat_expo'] = res_2_exp.predict(start='2020-01-01',end='2020-01-31')\n",
    "test['yhat_expo'].head()"
   ]
  },
  {
   "cell_type": "code",
   "execution_count": 25,
   "id": "1fffdc75",
   "metadata": {},
   "outputs": [
    {
     "name": "stderr",
     "output_type": "stream",
     "text": [
      "<ipython-input-25-6d8ef0e4b4be>:4: SettingWithCopyWarning: \n",
      "A value is trying to be set on a copy of a slice from a DataFrame.\n",
      "Try using .loc[row_indexer,col_indexer] = value instead\n",
      "\n",
      "See the caveats in the documentation: https://pandas.pydata.org/pandas-docs/stable/user_guide/indexing.html#returning-a-view-versus-a-copy\n",
      "  test['yhat_ols'] = res_ols.predict(test)\n"
     ]
    },
    {
     "data": {
      "text/html": [
       "<div>\n",
       "<style scoped>\n",
       "    .dataframe tbody tr th:only-of-type {\n",
       "        vertical-align: middle;\n",
       "    }\n",
       "\n",
       "    .dataframe tbody tr th {\n",
       "        vertical-align: top;\n",
       "    }\n",
       "\n",
       "    .dataframe thead th {\n",
       "        text-align: right;\n",
       "    }\n",
       "</style>\n",
       "<table border=\"1\" class=\"dataframe\">\n",
       "  <thead>\n",
       "    <tr style=\"text-align: right;\">\n",
       "      <th></th>\n",
       "      <th>mw</th>\n",
       "      <th>Temp</th>\n",
       "      <th>year</th>\n",
       "      <th>month</th>\n",
       "      <th>day_of_week</th>\n",
       "      <th>hour_of_day</th>\n",
       "      <th>temp_stand</th>\n",
       "      <th>temp_squared</th>\n",
       "      <th>residuals</th>\n",
       "      <th>yhat_expo</th>\n",
       "      <th>yhat_ols</th>\n",
       "    </tr>\n",
       "    <tr>\n",
       "      <th>Date</th>\n",
       "      <th></th>\n",
       "      <th></th>\n",
       "      <th></th>\n",
       "      <th></th>\n",
       "      <th></th>\n",
       "      <th></th>\n",
       "      <th></th>\n",
       "      <th></th>\n",
       "      <th></th>\n",
       "      <th></th>\n",
       "      <th></th>\n",
       "    </tr>\n",
       "  </thead>\n",
       "  <tbody>\n",
       "    <tr>\n",
       "      <th>2020-01-01 00:53:00</th>\n",
       "      <td>1363.428</td>\n",
       "      <td>31.0</td>\n",
       "      <td>2020</td>\n",
       "      <td>1</td>\n",
       "      <td>2</td>\n",
       "      <td>0</td>\n",
       "      <td>-0.435747</td>\n",
       "      <td>0.189876</td>\n",
       "      <td>1.252472</td>\n",
       "      <td>1.251838</td>\n",
       "      <td>1362.175528</td>\n",
       "    </tr>\n",
       "    <tr>\n",
       "      <th>2020-01-01 01:53:00</th>\n",
       "      <td>1335.975</td>\n",
       "      <td>29.0</td>\n",
       "      <td>2020</td>\n",
       "      <td>1</td>\n",
       "      <td>2</td>\n",
       "      <td>1</td>\n",
       "      <td>-0.628263</td>\n",
       "      <td>0.394714</td>\n",
       "      <td>-14.793154</td>\n",
       "      <td>1.252472</td>\n",
       "      <td>1350.768154</td>\n",
       "    </tr>\n",
       "    <tr>\n",
       "      <th>2020-01-01 02:53:00</th>\n",
       "      <td>1296.817</td>\n",
       "      <td>30.0</td>\n",
       "      <td>2020</td>\n",
       "      <td>1</td>\n",
       "      <td>2</td>\n",
       "      <td>2</td>\n",
       "      <td>-0.532005</td>\n",
       "      <td>0.283029</td>\n",
       "      <td>-27.867199</td>\n",
       "      <td>-14.793154</td>\n",
       "      <td>1324.684199</td>\n",
       "    </tr>\n",
       "    <tr>\n",
       "      <th>2020-01-01 03:53:00</th>\n",
       "      <td>1288.403</td>\n",
       "      <td>30.0</td>\n",
       "      <td>2020</td>\n",
       "      <td>1</td>\n",
       "      <td>2</td>\n",
       "      <td>3</td>\n",
       "      <td>-0.532005</td>\n",
       "      <td>0.283029</td>\n",
       "      <td>-29.432053</td>\n",
       "      <td>-27.867199</td>\n",
       "      <td>1317.835053</td>\n",
       "    </tr>\n",
       "    <tr>\n",
       "      <th>2020-01-01 04:53:00</th>\n",
       "      <td>1292.263</td>\n",
       "      <td>31.0</td>\n",
       "      <td>2020</td>\n",
       "      <td>1</td>\n",
       "      <td>2</td>\n",
       "      <td>4</td>\n",
       "      <td>-0.435747</td>\n",
       "      <td>0.189876</td>\n",
       "      <td>-36.199422</td>\n",
       "      <td>-29.432053</td>\n",
       "      <td>1328.462422</td>\n",
       "    </tr>\n",
       "  </tbody>\n",
       "</table>\n",
       "</div>"
      ],
      "text/plain": [
       "                           mw  Temp  year  month  day_of_week  hour_of_day  \\\n",
       "Date                                                                         \n",
       "2020-01-01 00:53:00  1363.428  31.0  2020      1            2            0   \n",
       "2020-01-01 01:53:00  1335.975  29.0  2020      1            2            1   \n",
       "2020-01-01 02:53:00  1296.817  30.0  2020      1            2            2   \n",
       "2020-01-01 03:53:00  1288.403  30.0  2020      1            2            3   \n",
       "2020-01-01 04:53:00  1292.263  31.0  2020      1            2            4   \n",
       "\n",
       "                     temp_stand  temp_squared  residuals  yhat_expo  \\\n",
       "Date                                                                  \n",
       "2020-01-01 00:53:00   -0.435747      0.189876   1.252472   1.251838   \n",
       "2020-01-01 01:53:00   -0.628263      0.394714 -14.793154   1.252472   \n",
       "2020-01-01 02:53:00   -0.532005      0.283029 -27.867199 -14.793154   \n",
       "2020-01-01 03:53:00   -0.532005      0.283029 -29.432053 -27.867199   \n",
       "2020-01-01 04:53:00   -0.435747      0.189876 -36.199422 -29.432053   \n",
       "\n",
       "                        yhat_ols  \n",
       "Date                              \n",
       "2020-01-01 00:53:00  1362.175528  \n",
       "2020-01-01 01:53:00  1350.768154  \n",
       "2020-01-01 02:53:00  1324.684199  \n",
       "2020-01-01 03:53:00  1317.835053  \n",
       "2020-01-01 04:53:00  1328.462422  "
      ]
     },
     "execution_count": 25,
     "metadata": {},
     "output_type": "execute_result"
    }
   ],
   "source": [
    "#this is total predictions for OLS AND EXPONENTIAL \n",
    "# this the predictions for the training set using OLS \n",
    "\n",
    "test['yhat_ols'] = res_ols.predict(test)\n",
    "test.head()\n",
    "\n",
    "\n"
   ]
  },
  {
   "cell_type": "code",
   "execution_count": 26,
   "id": "e7090bec",
   "metadata": {},
   "outputs": [
    {
     "name": "stderr",
     "output_type": "stream",
     "text": [
      "<ipython-input-26-fe4521d48757>:2: SettingWithCopyWarning: \n",
      "A value is trying to be set on a copy of a slice from a DataFrame.\n",
      "Try using .loc[row_indexer,col_indexer] = value instead\n",
      "\n",
      "See the caveats in the documentation: https://pandas.pydata.org/pandas-docs/stable/user_guide/indexing.html#returning-a-view-versus-a-copy\n",
      "  test['yhat_total'] = test['yhat_expo'] + test['yhat_ols']\n"
     ]
    },
    {
     "data": {
      "text/plain": [
       "Date\n",
       "2020-01-01 00:53:00    1363.427366\n",
       "2020-01-01 01:53:00    1352.020627\n",
       "2020-01-01 02:53:00    1309.891045\n",
       "2020-01-01 03:53:00    1289.967854\n",
       "2020-01-01 04:53:00    1299.030369\n",
       "Name: yhat_total, dtype: float64"
      ]
     },
     "execution_count": 26,
     "metadata": {},
     "output_type": "execute_result"
    }
   ],
   "source": [
    "#this is total predictions for test OLS AND EXPONENTIAL\n",
    "test['yhat_total'] = test['yhat_expo'] + test['yhat_ols']\n",
    "test['yhat_total'].head()"
   ]
  },
  {
   "cell_type": "code",
   "execution_count": 27,
   "id": "399f7591",
   "metadata": {},
   "outputs": [
    {
     "name": "stdout",
     "output_type": "stream",
     "text": [
      "expo and ols model MAPE is: 1.0751883917850094\n"
     ]
    },
    {
     "name": "stderr",
     "output_type": "stream",
     "text": [
      "<ipython-input-27-e8e41873d9c4>:7: SettingWithCopyWarning: \n",
      "A value is trying to be set on a copy of a slice from a DataFrame.\n",
      "Try using .loc[row_indexer,col_indexer] = value instead\n",
      "\n",
      "See the caveats in the documentation: https://pandas.pydata.org/pandas-docs/stable/user_guide/indexing.html#returning-a-view-versus-a-copy\n",
      "  test['mape'] = np.abs((test['mw'] - test['yhat_total'])/test['mw'])*100\n"
     ]
    }
   ],
   "source": [
    "# Calculate the MAPE the new predictions for the testing set \n",
    "\n",
    "# Get the mape for the model \n",
    "\n",
    "# we are measureing the accuarcy of the model \n",
    "# and make it a column as well \n",
    "test['mape'] = np.abs((test['mw'] - test['yhat_total'])/test['mw'])*100\n",
    "print('expo and ols model MAPE is:',test['mape'].mean())"
   ]
  },
  {
   "cell_type": "markdown",
   "id": "2d72cdf3",
   "metadata": {},
   "source": [
    "# Arima model "
   ]
  },
  {
   "cell_type": "code",
   "execution_count": 28,
   "id": "29868ef1",
   "metadata": {},
   "outputs": [
    {
     "name": "stderr",
     "output_type": "stream",
     "text": [
      "C:\\Anaconda3\\envs\\Phishing\\lib\\site-packages\\statsmodels\\tsa\\base\\tsa_model.py:581: ValueWarning: A date index has been provided, but it has no associated frequency information and so will be ignored when e.g. forecasting.\n",
      "  warnings.warn('A date index has been provided, but it has no'\n",
      "C:\\Anaconda3\\envs\\Phishing\\lib\\site-packages\\statsmodels\\tsa\\base\\tsa_model.py:581: ValueWarning: A date index has been provided, but it has no associated frequency information and so will be ignored when e.g. forecasting.\n",
      "  warnings.warn('A date index has been provided, but it has no'\n"
     ]
    },
    {
     "name": "stdout",
     "output_type": "stream",
     "text": [
      "                                      SARIMAX Results                                       \n",
      "============================================================================================\n",
      "Dep. Variable:                            residuals   No. Observations:                25536\n",
      "Model:             SARIMAX(2, 0, 0)x(0, 1, [1], 24)   Log Likelihood             -125445.030\n",
      "Date:                              Fri, 01 Oct 2021   AIC                         250898.061\n",
      "Time:                                      19:02:32   BIC                         250930.648\n",
      "Sample:                                           0   HQIC                        250908.598\n",
      "                                            - 25536                                         \n",
      "Covariance Type:                                opg                                         \n",
      "==============================================================================\n",
      "                 coef    std err          z      P>|z|      [0.025      0.975]\n",
      "------------------------------------------------------------------------------\n",
      "ar.L1          1.0580      0.004    262.684      0.000       1.050       1.066\n",
      "ar.L2         -0.1149      0.004    -26.912      0.000      -0.123      -0.107\n",
      "ma.S.L24      -0.9181      0.002   -415.362      0.000      -0.922      -0.914\n",
      "sigma2      1090.6057      4.724    230.844      0.000    1081.346    1099.865\n",
      "===================================================================================\n",
      "Ljung-Box (L1) (Q):                   3.17   Jarque-Bera (JB):             52323.14\n",
      "Prob(Q):                              0.07   Prob(JB):                         0.00\n",
      "Heteroskedasticity (H):               0.96   Skew:                             0.38\n",
      "Prob(H) (two-sided):                  0.04   Kurtosis:                         9.98\n",
      "===================================================================================\n",
      "\n",
      "Warnings:\n",
      "[1] Covariance matrix calculated using the outer product of gradients (complex-step).\n"
     ]
    }
   ],
   "source": [
    "# question 4 build a seasonal arima model \n",
    "\n",
    "arma = sm.tsa.statespace.SARIMAX(train['residuals'], order=(2,0,0), seasonal_order=(0,1,1,24))\n",
    "mod_arma = arma.fit()\n",
    "print(mod_arma.summary())                                 "
   ]
  },
  {
   "cell_type": "code",
   "execution_count": 29,
   "id": "6bce8037",
   "metadata": {},
   "outputs": [
    {
     "name": "stderr",
     "output_type": "stream",
     "text": [
      "<ipython-input-29-774f2cfdf820>:4: SettingWithCopyWarning: \n",
      "A value is trying to be set on a copy of a slice from a DataFrame.\n",
      "Try using .loc[row_indexer,col_indexer] = value instead\n",
      "\n",
      "See the caveats in the documentation: https://pandas.pydata.org/pandas-docs/stable/user_guide/indexing.html#returning-a-view-versus-a-copy\n",
      "  train['yhat_arma'] = mod_arma.predict(start='2017-02-01',end='2019-12-31')\n"
     ]
    },
    {
     "data": {
      "text/plain": [
       "Date\n",
       "2017-02-01 00:53:00    0.000000\n",
       "2017-02-01 01:53:00    1.595906\n",
       "2017-02-01 02:53:00    2.870764\n",
       "2017-02-01 03:53:00    3.905138\n",
       "2017-02-01 04:53:00    4.682616\n",
       "Name: yhat_arma, dtype: float64"
      ]
     },
     "execution_count": 29,
     "metadata": {},
     "output_type": "execute_result"
    }
   ],
   "source": [
    "# get the predicted residuals from the training arima model \n",
    "\n",
    "# this is just the data from training which doesn't have jan 2020 fyi \n",
    "train['yhat_arma'] = mod_arma.predict(start='2017-02-01',end='2019-12-31')\n",
    "train['yhat_arma'].head()"
   ]
  },
  {
   "cell_type": "code",
   "execution_count": 30,
   "id": "7a2e6aad",
   "metadata": {},
   "outputs": [
    {
     "name": "stderr",
     "output_type": "stream",
     "text": [
      "<ipython-input-30-80817dde8e29>:3: SettingWithCopyWarning: \n",
      "A value is trying to be set on a copy of a slice from a DataFrame.\n",
      "Try using .loc[row_indexer,col_indexer] = value instead\n",
      "\n",
      "See the caveats in the documentation: https://pandas.pydata.org/pandas-docs/stable/user_guide/indexing.html#returning-a-view-versus-a-copy\n",
      "  train['yhat_arma_total'] = train['yhat_arma'] + train['yhat_ols']\n"
     ]
    },
    {
     "data": {
      "text/plain": [
       "Date\n",
       "2017-02-01 00:53:00    1313.634130\n",
       "2017-02-01 01:53:00    1284.619238\n",
       "2017-02-01 02:53:00    1278.905880\n",
       "2017-02-01 03:53:00    1287.514414\n",
       "2017-02-01 04:53:00    1329.675059\n",
       "Name: yhat_arma_total, dtype: float64"
      ]
     },
     "execution_count": 30,
     "metadata": {},
     "output_type": "execute_result"
    }
   ],
   "source": [
    "# Add the predictions from the arima model to the energy model predictions \n",
    "\n",
    "train['yhat_arma_total'] = train['yhat_arma'] + train['yhat_ols']\n",
    "train['yhat_arma_total'].head()"
   ]
  },
  {
   "cell_type": "code",
   "execution_count": 31,
   "id": "0e237498",
   "metadata": {},
   "outputs": [
    {
     "name": "stdout",
     "output_type": "stream",
     "text": [
      "Arima model MAPE is: 1.483781149639834\n"
     ]
    },
    {
     "name": "stderr",
     "output_type": "stream",
     "text": [
      "<ipython-input-31-1076b12a8253>:7: SettingWithCopyWarning: \n",
      "A value is trying to be set on a copy of a slice from a DataFrame.\n",
      "Try using .loc[row_indexer,col_indexer] = value instead\n",
      "\n",
      "See the caveats in the documentation: https://pandas.pydata.org/pandas-docs/stable/user_guide/indexing.html#returning-a-view-versus-a-copy\n",
      "  train['mape'] = np.abs((train['mw'] - train['yhat_arma_total'])/train['mw'])*100\n"
     ]
    }
   ],
   "source": [
    "# Calculate the MAPE the new predictions for the training set for armia \n",
    "\n",
    "# Get the mape for the model \n",
    "\n",
    "# we are measureing the accuarcy of the model \n",
    "# and make it a column as well \n",
    "train['mape'] = np.abs((train['mw'] - train['yhat_arma_total'])/train['mw'])*100\n",
    "print('Arima model MAPE is:',train['mape'].mean())"
   ]
  },
  {
   "cell_type": "markdown",
   "id": "d7cf805b",
   "metadata": {},
   "source": [
    "Forcast the test set for armia "
   ]
  },
  {
   "cell_type": "code",
   "execution_count": 32,
   "id": "bcbe796d",
   "metadata": {},
   "outputs": [
    {
     "name": "stderr",
     "output_type": "stream",
     "text": [
      "C:\\Anaconda3\\envs\\Phishing\\lib\\site-packages\\statsmodels\\tsa\\base\\tsa_model.py:581: ValueWarning: A date index has been provided, but it has no associated frequency information and so will be ignored when e.g. forecasting.\n",
      "  warnings.warn('A date index has been provided, but it has no'\n",
      "C:\\Anaconda3\\envs\\Phishing\\lib\\site-packages\\statsmodels\\tsa\\base\\tsa_model.py:581: ValueWarning: A date index has been provided, but it has no associated frequency information and so will be ignored when e.g. forecasting.\n",
      "  warnings.warn('A date index has been provided, but it has no'\n"
     ]
    },
    {
     "name": "stdout",
     "output_type": "stream",
     "text": [
      "                                      SARIMAX Results                                       \n",
      "============================================================================================\n",
      "Dep. Variable:                            residuals   No. Observations:                  744\n",
      "Model:             SARIMAX(2, 0, 0)x(0, 1, [1], 24)   Log Likelihood               -3254.354\n",
      "Date:                              Fri, 01 Oct 2021   AIC                           6516.708\n",
      "Time:                                      19:03:34   BIC                           6535.025\n",
      "Sample:                                           0   HQIC                          6523.779\n",
      "                                              - 744                                         \n",
      "Covariance Type:                                opg                                         \n",
      "==============================================================================\n",
      "                 coef    std err          z      P>|z|      [0.025      0.975]\n",
      "------------------------------------------------------------------------------\n",
      "ar.L1          1.1040      0.032     34.119      0.000       1.041       1.167\n",
      "ar.L2         -0.2204      0.034     -6.557      0.000      -0.286      -0.155\n",
      "ma.S.L24      -0.9996      3.699     -0.270      0.787      -8.249       6.250\n",
      "sigma2       439.6521   1625.669      0.270      0.787   -2746.600    3625.904\n",
      "===================================================================================\n",
      "Ljung-Box (L1) (Q):                   0.59   Jarque-Bera (JB):              1035.37\n",
      "Prob(Q):                              0.44   Prob(JB):                         0.00\n",
      "Heteroskedasticity (H):               0.88   Skew:                            -0.34\n",
      "Prob(H) (two-sided):                  0.34   Kurtosis:                         8.84\n",
      "===================================================================================\n",
      "\n",
      "Warnings:\n",
      "[1] Covariance matrix calculated using the outer product of gradients (complex-step).\n"
     ]
    }
   ],
   "source": [
    "# question 4 build a seasonal arima model \n",
    "\n",
    "arma = sm.tsa.statespace.SARIMAX(test['residuals'], order=(2,0,0), seasonal_order=(0,1,1,24))\n",
    "mod_arma = arma.fit()\n",
    "print(mod_arma.summary()) "
   ]
  },
  {
   "cell_type": "code",
   "execution_count": 33,
   "id": "f285a31e",
   "metadata": {},
   "outputs": [
    {
     "name": "stderr",
     "output_type": "stream",
     "text": [
      "<ipython-input-33-ae02ead5c4cf>:3: SettingWithCopyWarning: \n",
      "A value is trying to be set on a copy of a slice from a DataFrame.\n",
      "Try using .loc[row_indexer,col_indexer] = value instead\n",
      "\n",
      "See the caveats in the documentation: https://pandas.pydata.org/pandas-docs/stable/user_guide/indexing.html#returning-a-view-versus-a-copy\n",
      "  test['yhat_arma'] = mod_arma.predict(start='2020-01-01',end='2020-01-31')\n"
     ]
    },
    {
     "data": {
      "text/plain": [
       "Date\n",
       "2020-01-01 00:53:00    0.000000\n",
       "2020-01-01 01:53:00    0.005614\n",
       "2020-01-01 02:53:00   -0.061274\n",
       "2020-01-01 03:53:00   -0.176378\n",
       "2020-01-01 04:53:00   -0.280382\n",
       "Name: yhat_arma, dtype: float64"
      ]
     },
     "execution_count": 33,
     "metadata": {},
     "output_type": "execute_result"
    }
   ],
   "source": [
    "# forcast the month of january 2020 \n",
    "# get the predicted values of the residuals \n",
    "test['yhat_arma'] = mod_arma.predict(start='2020-01-01',end='2020-01-31')\n",
    "test['yhat_arma'].head()"
   ]
  },
  {
   "cell_type": "code",
   "execution_count": 34,
   "id": "4ec34b74",
   "metadata": {},
   "outputs": [
    {
     "name": "stderr",
     "output_type": "stream",
     "text": [
      "<ipython-input-34-b4cfc1a987af>:3: SettingWithCopyWarning: \n",
      "A value is trying to be set on a copy of a slice from a DataFrame.\n",
      "Try using .loc[row_indexer,col_indexer] = value instead\n",
      "\n",
      "See the caveats in the documentation: https://pandas.pydata.org/pandas-docs/stable/user_guide/indexing.html#returning-a-view-versus-a-copy\n",
      "  test['yhat_arma_total'] = test['yhat_arma'] + test['yhat_ols']\n"
     ]
    },
    {
     "data": {
      "text/plain": [
       "Date\n",
       "2020-01-01 00:53:00    1362.175528\n",
       "2020-01-01 01:53:00    1350.773769\n",
       "2020-01-01 02:53:00    1324.622925\n",
       "2020-01-01 03:53:00    1317.658675\n",
       "2020-01-01 04:53:00    1328.182040\n",
       "Name: yhat_arma_total, dtype: float64"
      ]
     },
     "execution_count": 34,
     "metadata": {},
     "output_type": "execute_result"
    }
   ],
   "source": [
    "# Add the predictions from the arima model to the energy model predictions \n",
    "\n",
    "test['yhat_arma_total'] = test['yhat_arma'] + test['yhat_ols']\n",
    "test['yhat_arma_total'].head()"
   ]
  },
  {
   "cell_type": "code",
   "execution_count": 35,
   "id": "ba6a4792",
   "metadata": {},
   "outputs": [
    {
     "name": "stdout",
     "output_type": "stream",
     "text": [
      "armia test MAPE is: 1.316976709713447\n"
     ]
    },
    {
     "name": "stderr",
     "output_type": "stream",
     "text": [
      "<ipython-input-35-90ae91859eeb>:7: SettingWithCopyWarning: \n",
      "A value is trying to be set on a copy of a slice from a DataFrame.\n",
      "Try using .loc[row_indexer,col_indexer] = value instead\n",
      "\n",
      "See the caveats in the documentation: https://pandas.pydata.org/pandas-docs/stable/user_guide/indexing.html#returning-a-view-versus-a-copy\n",
      "  test['mape'] = np.abs((test['mw'] - test['yhat_arma_total'])/test['mw'])*100\n"
     ]
    }
   ],
   "source": [
    "# Calculate the MAPE the new predictions for the training set for armia \n",
    "\n",
    "# Get the mape for the model \n",
    "\n",
    "# we are measureing the accuarcy of the model \n",
    "# and make it a column as well \n",
    "test['mape'] = np.abs((test['mw'] - test['yhat_arma_total'])/test['mw'])*100\n",
    "print('armia test MAPE is:',test['mape'].mean())"
   ]
  },
  {
   "cell_type": "code",
   "execution_count": 36,
   "id": "3567e294",
   "metadata": {},
   "outputs": [
    {
     "name": "stderr",
     "output_type": "stream",
     "text": [
      "<ipython-input-36-b0bc458ab5e7>:3: SettingWithCopyWarning: \n",
      "A value is trying to be set on a copy of a slice from a DataFrame.\n",
      "Try using .loc[row_indexer,col_indexer] = value instead\n",
      "\n",
      "See the caveats in the documentation: https://pandas.pydata.org/pandas-docs/stable/user_guide/indexing.html#returning-a-view-versus-a-copy\n",
      "  train['yhat_average'] = (train['yhat_expo'] + train['yhat_arma'])/2\n"
     ]
    },
    {
     "data": {
      "text/plain": [
       "Date\n",
       "2017-02-01 00:53:00    53.123435\n",
       "2017-02-01 01:53:00    53.921388\n",
       "2017-02-01 02:53:00    49.700629\n",
       "2017-02-01 03:53:00    47.004160\n",
       "2017-02-01 04:53:00    42.786319\n",
       "Name: yhat_average, dtype: float64"
      ]
     },
     "execution_count": 36,
     "metadata": {},
     "output_type": "execute_result"
    }
   ],
   "source": [
    "#Question 5 ensembling multiple forcasts \n",
    "\n",
    "train['yhat_average'] = (train['yhat_expo'] + train['yhat_arma'])/2 \n",
    "train['yhat_average'].head()"
   ]
  },
  {
   "cell_type": "code",
   "execution_count": 37,
   "id": "9485e6e6",
   "metadata": {},
   "outputs": [
    {
     "name": "stderr",
     "output_type": "stream",
     "text": [
      "<ipython-input-37-3911f4ceb123>:4: SettingWithCopyWarning: \n",
      "A value is trying to be set on a copy of a slice from a DataFrame.\n",
      "Try using .loc[row_indexer,col_indexer] = value instead\n",
      "\n",
      "See the caveats in the documentation: https://pandas.pydata.org/pandas-docs/stable/user_guide/indexing.html#returning-a-view-versus-a-copy\n",
      "  train['yhat_new'] = train['yhat_average'] + train['yhat_ols']\n"
     ]
    },
    {
     "data": {
      "text/plain": [
       "Date\n",
       "2017-02-01 00:53:00    1366.757565\n",
       "2017-02-01 01:53:00    1336.944720\n",
       "2017-02-01 02:53:00    1325.735745\n",
       "2017-02-01 03:53:00    1330.613436\n",
       "2017-02-01 04:53:00    1367.778761\n",
       "Name: yhat_new, dtype: float64"
      ]
     },
     "execution_count": 37,
     "metadata": {},
     "output_type": "execute_result"
    }
   ],
   "source": [
    "# add the average to the dynamic residuls for are new predictions\n",
    "# get new energy predicts \n",
    "\n",
    "train['yhat_new'] = train['yhat_average'] + train['yhat_ols'] \n",
    "train['yhat_new'].head()"
   ]
  },
  {
   "cell_type": "code",
   "execution_count": 38,
   "id": "9e27bc63",
   "metadata": {},
   "outputs": [
    {
     "name": "stdout",
     "output_type": "stream",
     "text": [
      "new energy MAPE is: 1.5270472298588553\n"
     ]
    },
    {
     "name": "stderr",
     "output_type": "stream",
     "text": [
      "<ipython-input-38-2eadfb99cb22>:3: SettingWithCopyWarning: \n",
      "A value is trying to be set on a copy of a slice from a DataFrame.\n",
      "Try using .loc[row_indexer,col_indexer] = value instead\n",
      "\n",
      "See the caveats in the documentation: https://pandas.pydata.org/pandas-docs/stable/user_guide/indexing.html#returning-a-view-versus-a-copy\n",
      "  train['mape'] = np.abs((train['mw'] - train['yhat_new'])/train['mw'])*100\n"
     ]
    }
   ],
   "source": [
    "#Calulate the mape for the new energy predicts   \n",
    "\n",
    "train['mape'] = np.abs((train['mw'] - train['yhat_new'])/train['mw'])*100\n",
    "print('new energy MAPE is:',train['mape'].mean())"
   ]
  },
  {
   "cell_type": "markdown",
   "id": "f0c92d10",
   "metadata": {},
   "source": [
    "With the new residuals predictions the mape decreased from 3.3 to 1.5 for the naive. The armia was better with a mape 1.4 and the exponent mape was 1.7 \n"
   ]
  },
  {
   "cell_type": "code",
   "execution_count": 39,
   "id": "359723c4",
   "metadata": {},
   "outputs": [
    {
     "name": "stderr",
     "output_type": "stream",
     "text": [
      "<ipython-input-39-ec1cdea63155>:3: SettingWithCopyWarning: \n",
      "A value is trying to be set on a copy of a slice from a DataFrame.\n",
      "Try using .loc[row_indexer,col_indexer] = value instead\n",
      "\n",
      "See the caveats in the documentation: https://pandas.pydata.org/pandas-docs/stable/user_guide/indexing.html#returning-a-view-versus-a-copy\n",
      "  test['yhat_average'] = (test['yhat_expo'] + test['yhat_arma'])/2\n"
     ]
    },
    {
     "data": {
      "text/plain": [
       "Date\n",
       "2020-01-01 00:53:00     0.625919\n",
       "2020-01-01 01:53:00     0.629043\n",
       "2020-01-01 02:53:00    -7.427214\n",
       "2020-01-01 03:53:00   -14.021788\n",
       "2020-01-01 04:53:00   -14.856218\n",
       "Name: yhat_average, dtype: float64"
      ]
     },
     "execution_count": 39,
     "metadata": {},
     "output_type": "execute_result"
    }
   ],
   "source": [
    "# Get the forcast for the test set to get predictions\n",
    "\n",
    "test['yhat_average'] = (test['yhat_expo'] + test['yhat_arma'])/2 \n",
    "test['yhat_average'].head()"
   ]
  },
  {
   "cell_type": "code",
   "execution_count": 40,
   "id": "d511c241",
   "metadata": {},
   "outputs": [
    {
     "name": "stderr",
     "output_type": "stream",
     "text": [
      "<ipython-input-40-c892f3ad6e7b>:4: SettingWithCopyWarning: \n",
      "A value is trying to be set on a copy of a slice from a DataFrame.\n",
      "Try using .loc[row_indexer,col_indexer] = value instead\n",
      "\n",
      "See the caveats in the documentation: https://pandas.pydata.org/pandas-docs/stable/user_guide/indexing.html#returning-a-view-versus-a-copy\n",
      "  test['yhat_new'] = test['yhat_average'] + test['yhat_ols']\n"
     ]
    },
    {
     "data": {
      "text/plain": [
       "Date\n",
       "2020-01-01 00:53:00    1362.801447\n",
       "2020-01-01 01:53:00    1351.397198\n",
       "2020-01-01 02:53:00    1317.256985\n",
       "2020-01-01 03:53:00    1303.813265\n",
       "2020-01-01 04:53:00    1313.606205\n",
       "Name: yhat_new, dtype: float64"
      ]
     },
     "execution_count": 40,
     "metadata": {},
     "output_type": "execute_result"
    }
   ],
   "source": [
    "# add the average to the dynamic residuls for are new predictions\n",
    "# get new energy predicts \n",
    "\n",
    "test['yhat_new'] = test['yhat_average'] + test['yhat_ols'] \n",
    "test['yhat_new'].head()"
   ]
  },
  {
   "cell_type": "code",
   "execution_count": 41,
   "id": "96deb5cb",
   "metadata": {},
   "outputs": [
    {
     "name": "stdout",
     "output_type": "stream",
     "text": [
      "new energy MAPE is: 1.1637875300370337\n"
     ]
    },
    {
     "name": "stderr",
     "output_type": "stream",
     "text": [
      "<ipython-input-41-30e9239bf558>:3: SettingWithCopyWarning: \n",
      "A value is trying to be set on a copy of a slice from a DataFrame.\n",
      "Try using .loc[row_indexer,col_indexer] = value instead\n",
      "\n",
      "See the caveats in the documentation: https://pandas.pydata.org/pandas-docs/stable/user_guide/indexing.html#returning-a-view-versus-a-copy\n",
      "  test['mape'] = np.abs((test['mw'] - test['yhat_new'])/test['mw'])*100\n"
     ]
    }
   ],
   "source": [
    "#Calulate the mape for the new energy predicts   \n",
    "\n",
    "test['mape'] = np.abs((test['mw'] - test['yhat_new'])/test['mw'])*100\n",
    "print('new energy MAPE is:',test['mape'].mean())"
   ]
  },
  {
   "cell_type": "markdown",
   "id": "8c394cae",
   "metadata": {},
   "source": [
    "The Mape of the ensemble for training is 1.5 and for test is 1.1 "
   ]
  },
  {
   "cell_type": "code",
   "execution_count": null,
   "id": "b695915a",
   "metadata": {},
   "outputs": [],
   "source": []
  }
 ],
 "metadata": {
  "kernelspec": {
   "display_name": "Python (myenv)",
   "language": "python",
   "name": "phishing"
  },
  "language_info": {
   "codemirror_mode": {
    "name": "ipython",
    "version": 3
   },
   "file_extension": ".py",
   "mimetype": "text/x-python",
   "name": "python",
   "nbconvert_exporter": "python",
   "pygments_lexer": "ipython3",
   "version": "3.8.8"
  }
 },
 "nbformat": 4,
 "nbformat_minor": 5
}
